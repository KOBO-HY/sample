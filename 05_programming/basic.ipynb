{
 "cells": [
  {
   "cell_type": "code",
   "execution_count": 2,
   "id": "c89c036a",
   "metadata": {},
   "outputs": [
    {
     "name": "stdout",
     "output_type": "stream",
     "text": [
      "3科目の平均点は 83.33333333333333 点です\n"
     ]
    }
   ],
   "source": [
    "#各科目の点数を変数として定義\n",
    "\n",
    "japanese = 85\n",
    "math = 90\n",
    "english = 75\n",
    "\n",
    "#平均点を計算\n",
    "average = (japanese + math + english) / 3\n",
    "\n",
    "#結果を表示\n",
    "print(\"3科目の平均点は\", average, \"点です\")"
   ]
  },
  {
   "cell_type": "code",
   "execution_count": null,
   "id": "cf4322ae",
   "metadata": {},
   "outputs": [
    {
     "ename": "IndentationError",
     "evalue": "unexpected indent (3372296995.py, line 13)",
     "output_type": "error",
     "traceback": [
      "  \u001b[36mCell\u001b[39m\u001b[36m \u001b[39m\u001b[32mIn[16]\u001b[39m\u001b[32m, line 13\u001b[39m\n\u001b[31m    \u001b[39m\u001b[31mshipping_cost = 350\u001b[39m\n    ^\n\u001b[31mIndentationError\u001b[39m\u001b[31m:\u001b[39m unexpected indent\n"
     ]
    }
   ],
   "source": [
    "# [A]: 「税抜価格」をユーザーから取得し、数値に変換する\n",
    "tax_excluded_price = [None](input(\"税抜価格を入力してください: \"))\n",
    "\n",
    "# [B]: 「税込価格」を計算する（消費税率は10%）\n",
    "tax_rate = 0.10\n",
    "tax_included_price = [ tax_excluded_price+ (tax_excluded_price * tax_rate)]\n",
    "\n",
    "# [C]、[D]: 送料の計算（2000円以上かどうかを判定して分岐する）\n",
    "if [tax_included_price >= 2000]:\n",
    "    shipping_cost = 0\n",
    "    print(\"送料は無料です\")\n",
    "[tax_included_price < 2000]\n",
    "    shipping_cost = 350\n",
    "    print(f\"送料は{shipping_cost}円です\")\n",
    "\n",
    "# [E]: 送料込税込価格を計算して、変数に代入する\n",
    "[tax_included_price + shipping_cost]\n",
    "\n",
    "# 「送料込税込価格」を少数を含めずに出力する\n",
    "print(f\"送料込税込価格は{total_price:.0f}円です\")"
   ]
  }
 ],
 "metadata": {
  "kernelspec": {
   "display_name": ".venv",
   "language": "python",
   "name": "python3"
  },
  "language_info": {
   "codemirror_mode": {
    "name": "ipython",
    "version": 3
   },
   "file_extension": ".py",
   "mimetype": "text/x-python",
   "name": "python",
   "nbconvert_exporter": "python",
   "pygments_lexer": "ipython3",
   "version": "3.12.7"
  }
 },
 "nbformat": 4,
 "nbformat_minor": 5
}
